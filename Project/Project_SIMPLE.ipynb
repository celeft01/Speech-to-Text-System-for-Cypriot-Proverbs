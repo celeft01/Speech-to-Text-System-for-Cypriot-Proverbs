{
 "cells": [
  {
   "cell_type": "code",
   "execution_count": 7,
   "id": "d7887a28",
   "metadata": {},
   "outputs": [],
   "source": [
    "import os\n",
    "import re\n",
    "import librosa\n",
    "import torch\n",
    "import pandas as pd\n",
    "from torch.nn.utils.rnn import pad_sequence\n",
    "from datasets import Dataset\n",
    "from transformers import (\n",
    "    WhisperProcessor,\n",
    "    WhisperForConditionalGeneration,\n",
    "    Seq2SeqTrainer,\n",
    "    Seq2SeqTrainingArguments,\n",
    ")\n",
    "import evaluate\n",
    "import Levenshtein\n",
    "import warnings\n"
   ]
  },
  {
   "cell_type": "code",
   "execution_count": 8,
   "id": "0a0364da",
   "metadata": {},
   "outputs": [],
   "source": [
    "#INSERT PATH TO YOUR PROVERBS TXT\n",
    "txt_path = r\"C:\\PATH\\Paroimies.txt\"\n",
    "\n",
    "# Load the text data\n",
    "def load_target_text(txt_path):\n",
    "    target_texts = []\n",
    "    with open(txt_path, 'r', encoding='utf-8') as file:\n",
    "        for line in file:\n",
    "            line = line.strip()\n",
    "            if line:\n",
    "                match = re.match(r\"^\\d+\\.\\s*(.*)\", line)\n",
    "                if match:\n",
    "                    text = match.group(1).strip()\n",
    "                    target_texts.append(text)\n",
    "                else:\n",
    "                    print(f\"Skipping line due to formatting issues: {line}\")\n",
    "    return target_texts\n",
    "\n",
    "target_texts = load_target_text(txt_path)"
   ]
  },
  {
   "cell_type": "code",
   "execution_count": 9,
   "id": "de52b3dd",
   "metadata": {},
   "outputs": [],
   "source": [
    "# Path to your saved model directory\n",
    "#INSERT THE PATH TO THE FOLDER OF THE MODEL\n",
    "model_path = r\"C:\\PATH\\whisper-finetuned2\"\n",
    "\n",
    "# Load the model and processor\n",
    "model = WhisperForConditionalGeneration.from_pretrained(model_path)\n",
    "processor = WhisperProcessor.from_pretrained(model_path)\n"
   ]
  },
  {
   "cell_type": "code",
   "execution_count": 10,
   "id": "1b789ef3",
   "metadata": {},
   "outputs": [],
   "source": [
    "#!pip install  Levenshtein"
   ]
  },
  {
   "cell_type": "code",
   "execution_count": 11,
   "id": "19170b08",
   "metadata": {},
   "outputs": [
    {
     "name": "stdout",
     "output_type": "stream",
     "text": [
      "Transcription: Apou polla logia o kosmos en dikos tou.\n",
      "Do you mean: Apou’n antrepetai, o kosmos en dikos tou.\n"
     ]
    }
   ],
   "source": [
    "# Test on unseen audio\n",
    "def transcribe_audio(file_path):\n",
    "    audio, sr = librosa.load(file_path, sr=16000)\n",
    "    input_features = processor(audio, sampling_rate=16000, return_tensors=\"pt\").input_features\n",
    "    generated_ids = model.generate(input_features)\n",
    "    transcription = processor.batch_decode(generated_ids, skip_special_tokens=True)[0]\n",
    "    return transcription\n",
    "\n",
    "def find_nearest_proverb(transcription, target_texts):\n",
    "    \"\"\"Find the closest match for the transcription from the list of proverbs.\"\"\"\n",
    "    distances = {proverb: Levenshtein.distance(transcription.lower(), proverb.lower()) for proverb in target_texts}\n",
    "    nearest_proverb = min(distances, key=distances.get)  # Proverb with the smallest distance\n",
    "    distance = distances[nearest_proverb]\n",
    "    return nearest_proverb, distance\n",
    "\n",
    "def transcribe_and_suggest(file_path, target_texts):\n",
    "    # Step 1: Transcribe the audio\n",
    "    transcription = transcribe_audio(file_path)\n",
    "    # Step 2: Find the nearest proverb\n",
    "    nearest_proverb, distance = find_nearest_proverb(transcription, target_texts)\n",
    "    # Step 3: Return transcription and the closest proverb\n",
    "    return transcription, nearest_proverb\n",
    "\n",
    "#INSERT YOUR AUDIO PATH AS SHOWN\n",
    "test_audio_path = r\"C:\\PATH\\audio.wav\"\n",
    "transcription, closest_proverb = transcribe_and_suggest(test_audio_path, target_texts)\n",
    "print(\"Transcription:\", transcription)\n",
    "print(\"Do you mean:\", closest_proverb)\n",
    "warnings.filterwarnings(\"ignore\")"
   ]
  },
  {
   "cell_type": "code",
   "execution_count": null,
   "id": "91cf2eae",
   "metadata": {},
   "outputs": [],
   "source": []
  }
 ],
 "metadata": {
  "kernelspec": {
   "display_name": "Python (gpu_env)",
   "language": "python",
   "name": "gpu_env"
  },
  "language_info": {
   "codemirror_mode": {
    "name": "ipython",
    "version": 3
   },
   "file_extension": ".py",
   "mimetype": "text/x-python",
   "name": "python",
   "nbconvert_exporter": "python",
   "pygments_lexer": "ipython3",
   "version": "3.12.7"
  }
 },
 "nbformat": 4,
 "nbformat_minor": 5
}
